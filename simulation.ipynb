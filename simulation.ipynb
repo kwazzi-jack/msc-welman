{
 "cells": [
  {
   "cell_type": "markdown",
   "metadata": {},
   "source": [
    "# **Simulated Experiment:** Calibration in the Presence of Flux Suppression\n",
    "### **Author:** Brian Welman\n",
    "### **Date:** June 2023\n",
    "---\n",
    "## Purpose of this Notebook\n",
    "\n",
    "This Jupyter notebook serves as a companion to my Master of Science thesis, *\"Calibration with Kalman Filtering and Smoothing: A New Framework for Modernizing Calibration Techniques\"*. It provides a simulated environment to investigate and run an experiment focusing on the phenomenon of flux suppression encountered during radio interferometry.\n",
    "\n",
    "The simulation is combined with a generic, direction-independent, time-only calibration scenario, with the primary objective being to generate the necessary results for the application section of my thesis.\n",
    "\n",
    "---\n",
    "## What You Will Find\n",
    "\n",
    "In this notebook, you'll find a detailed walkthrough of:\n",
    "\n",
    "1. Simulating a calibration environment\n",
    "2. Conducting multiple calibration runs\n",
    "3. Performing a specialized form of imaging\n",
    "4. Generating plots and FITS files for results visualization\n",
    "\n",
    "---\n",
    "## Before You Begin\n",
    "\n",
    "Please ensure you've checked the README in the GitHub repository for instructions on setting up and running the simulation.\n",
    "\n",
    "<div class=\"alert alert-block alert-success\"><b>Note:</b> This simulation is intended to serve as an academic example and may not be applicable for all calibration scenarios encountered in radio interferometry. Feel free to adapt and modify the code as needed to suit your specific requirements.</div>\n",
    "\n",
    "<div class=\"alert alert-block alert-warning\">\n",
    "<b>Important:</b> As a redundancy feature, all important files and folders, including configuration files, data files/folders, plots, and so forth, that will be generated for a given function call or cell execution will prompt a response from the user whether the original files should be replaced, if they exist. There are several places where this feature can be manually turned off and will be labelled accordingly.\n",
    "</div>\n"
   ]
  },
  {
   "cell_type": "markdown",
   "metadata": {},
   "source": [
    "---\n",
    "## 1. Simulation Setup\n",
    "\n",
    "The contents of this section relates to the setup and settings specific to this simulation. Each simulation notebook can facilitate multiple different simulations at the same time, however, it is suggested to keep one simulation per simulation notebook to avoid complications. "
   ]
  },
  {
   "cell_type": "markdown",
   "metadata": {},
   "source": [
    "### 1.1 Configure `IPython` Modules\n",
    "\n",
    "Below loads and sets the various aspects related to the `IPython` module."
   ]
  },
  {
   "cell_type": "code",
   "execution_count": 2,
   "metadata": {},
   "outputs": [],
   "source": [
    "# Load magic modules\n",
    "%reload_ext autoreload\n",
    "\n",
    "# Auto-reload python code before each execution\n",
    "%autoreload 2"
   ]
  },
  {
   "cell_type": "markdown",
   "metadata": {},
   "source": [
    "### 1.2 Configure Notebook\n",
    "\n",
    "The code below assists with `jupyter-notebook` related conifgurations. \n",
    "\n",
    "<div class=\"alert alert-block alert-warning\">\n",
    "<b>Important:</b> The notebook works best when the screen width is set wider, which can be done by executing the cell below. If the outputs are cleared, you can simply rerun the cell below to restore the width.\n",
    "</div>\n"
   ]
  },
  {
   "cell_type": "code",
   "execution_count": 3,
   "metadata": {},
   "outputs": [
    {
     "data": {
      "text/html": [
       "<style>.container { width:100% !important; }</style>"
      ],
      "text/plain": [
       "<IPython.core.display.HTML object>"
      ]
     },
     "metadata": {},
     "output_type": "display_data"
    }
   ],
   "source": [
    "from IPython.display import display, HTML\n",
    "\n",
    "# Make the cells the width of the screen\n",
    "display(HTML(\"<style>.container { width:100% !important; }</style>\"))"
   ]
  },
  {
   "cell_type": "markdown",
   "metadata": {},
   "source": [
    "### 1.3 Create or Load Settings\n",
    "\n",
    "This sets the core settings for the simulation. That is, the specific locations/paths, labels, parameters, and options for the various aspects of the simulation. The user is welcome to change them as they like. It allows for the persistence of certain parameters and settings per simulation.\n",
    "\n",
    "<div class=\"alert alert-block alert-danger\">\n",
    "<b>Caution:</b> If changes are made to the settings, please press the <b>save</b> file button to retain them. If you want to load settings, simply press the <b>load</b> button and the settings should be loaded (given that it is present).\n",
    "</div>\n",
    "\n",
    "Below, the main entry point for the script is given by `script_settings` function. It takes the path to the main configuration file for the simulation as a YAML file. If you created a new simulation, please find the relevant configuration YAML file contained within the simulation with the associated name used to generate the directory. If you are using the main repository as your simulation location, you can simply use the file `meerkat-src-100-config.yml` as a start point. This file ensures that the correct simulation is selected and the correct settings, data and parameters associated with the simulation are used. \n",
    "\n",
    "<div class=\"alert alert-block alert-success\"><b>Note:</b> Replace the <code>\"&lt;INSERT CONFIG SCRIPT HERE&gt;\"</code> with a string input of the path to the configuration file.</div>\n",
    "\n"
   ]
  },
  {
   "cell_type": "code",
   "execution_count": 1,
   "metadata": {},
   "outputs": [
    {
     "data": {
      "application/vnd.jupyter.widget-view+json": {
       "model_id": "0461c732bbeb4b8db23b873cbf148ca2",
       "version_major": 2,
       "version_minor": 0
      },
      "text/plain": [
       "Tab(children=(AppLayout(children=(VBox(children=(HTML(value='<h1>Script Settings</h1>'), HTML(value='<p>Relate…"
      ]
     },
     "metadata": {},
     "output_type": "display_data"
    }
   ],
   "source": [
    "from source.script import script_settings\n",
    "\n",
    "script_options = script_settings(\"<INSERT CONFIG SCRIPT HERE>\")"
   ]
  },
  {
   "cell_type": "markdown",
   "metadata": {},
   "source": [
    "Once the script settings are to your liking, they can be fed into the `setup_simulation` function to create the relevant directories and files according to these settings. From this point onwards, a log file is generated and stored in main directory labelled `simulation.log`. It will detail all the function calls used throughout the script and other useful debugging information.\n",
    "\n",
    "<div class=\"alert alert-block alert-success\"><b>Note:</b> Feed <code>script_options</code> into <code>setup_simulation</code>. There is an additional flag parameter <code>cleanup</code> that can be set. If set, then existing directories and files will be flagged for deletion, but for caution, it will require a response whether this action should be done or not.</div>\n",
    "\n",
    "<div class=\"alert alert-block alert-danger\">\n",
    "    <b>Caution:</b> Regardless whether the <code>cleanup</code> flag is set, running this function will prompt for deletion of parameter information if any existing parameters that is stored in <code>\"&lt;config_dir&gt;/params.config\"</code> is present, where <code>config_dir</code> is the path to your configuration file directory given in the script settings. This is important to not delete if you wish to keep your simulation global parameters alive per session. If this is the case, select <b>n</b> everytime. If are completely deleting and reseting the simulation or this information in particular, then select <b>y</b>. If this is done, rerun all relevant functions below without replacing existing files. This will update the parameter information with associated settings and function calls.\n",
    "</div>\n"
   ]
  },
  {
   "cell_type": "code",
   "execution_count": 5,
   "metadata": {},
   "outputs": [],
   "source": [
    "from source.script import setup_simulation\n",
    "\n",
    "params = setup_simulation(script_options)"
   ]
  },
  {
   "cell_type": "markdown",
   "metadata": {},
   "source": [
    "The output of `setup_simulation`, i.e., `params` is the most important parameter information file within the script. It will contain all the deduced user settings and other important information to be used throughout the simulation. This can range from how the data is simulated, where to find certain data files/folders, allowing for calibration and imaging runs, and performing the necessary actions to create plots.\n",
    "\n",
    "The variable can be accessed like a Python dictionary through the use of keys. It will be up to the user to find the required information they need, but it is designed for easy viewing if the variable is printed to screen, i.e., `print(params)`. The user is also welcome to store data within the parameter file if need be. If this information is only required for a session or cell, then you can use it as a normal dictionary in this context. If you wish to save this custom parameter information, execute `params.save()` to push all the new changes to file. \n",
    "\n",
    "If a function call says there is missing keys, it is often easier to rerun previous function calls (without deleting the generated data and settings) to correct this, e.g., `setup_plotting` to reset the plotting information, `create_empty_measurement_set` to reset measurement set information, or \n",
    "\n",
    "<div class=\"alert alert-block alert-danger\">\n",
    "    <b>Caution:</b> When assigning new variables to <code>params</code> or saving the custom entries to file, there is no check done to see if things are overwritten. It is suggested to use a separate entry as <code>params[\"custom\"] = {}</code> and populate this dictionary with the user's custom parameter information. Ensure to call `params.save()` to save these custom parameters to file. \n",
    "</div>\n",
    "\n",
    "<div class=\"alert alert-block alert-success\"><b>Note:</b> To see the contents of <code>params</code>, execute the cell below. Note, it can be large so caution is advised.</div>"
   ]
  },
  {
   "cell_type": "code",
   "execution_count": 6,
   "metadata": {},
   "outputs": [
    {
     "name": "stdout",
     "output_type": "stream",
     "text": [
      "meerkat-src-100/config/params.config:\n",
      "│   ├──  mpl-dir: \"\"\n",
      "│   ├──  n-cpu: 8\n",
      "│   ├──  paths: \n",
      "│   │   ├──  config: \n",
      "│   │   │   ├──  dir: meerkat-src-100/config\n",
      "│   │   │   ├──  files: \n",
      "│   │   ├──  data: \n",
      "│   │   │   ├──  dir: meerkat-src-100/data\n",
      "│   │   │   ├──  files: \n",
      "│   │   ├──  fits: \n",
      "│   │   │   ├──  dir: meerkat-src-100/data/fits\n",
      "│   │   │   ├──  files: \n",
      "│   │   │   ├──  kalcal-diag: \n",
      "│   │   │   │   ├──  dir: meerkat-src-100/data/fits/kalcal-diag\n",
      "│   │   │   │   ├──  files: \n",
      "│   │   │   │   ├──  filter: \n",
      "│   │   │   │   │   ├──  dir: meerkat-src-100/data/fits/kalcal-diag/filter\n",
      "│   │   │   │   │   ├──  files: \n",
      "│   │   │   │   │   ├──  template: diag-filter-{itype}-{mp}mp-sigma_f-{sigma_f}.fits\n",
      "│   │   │   │   ├──  smoother: \n",
      "│   │   │   │   │   └──  dir: meerkat-src-100/data/fits/kalcal-diag/smoother\n",
      "│   │   │   │   │   └──  files: \n",
      "│   │   │   │   │   └──  template: diag-smoother-{itype}-{mp}mp-sigma_f-{sigma_f}.fits\n",
      "│   │   │   ├──  kalcal-full: \n",
      "│   │   │   │   ├──  dir: meerkat-src-100/data/fits/kalcal-full\n",
      "│   │   │   │   ├──  files: \n",
      "│   │   │   │   ├──  filter: \n",
      "│   │   │   │   │   ├──  dir: meerkat-src-100/data/fits/kalcal-full/filter\n",
      "│   │   │   │   │   ├──  files: \n",
      "│   │   │   │   │   ├──  template: full-filter-{itype}-{mp}mp-sigma_f-{sigma_f}.fits\n",
      "│   │   │   │   ├──  smoother: \n",
      "│   │   │   │   │   └──  dir: meerkat-src-100/data/fits/kalcal-full/smoother\n",
      "│   │   │   │   │   └──  files: \n",
      "│   │   │   │   │   └──  template: full-smoother-{itype}-{mp}mp-sigma_f-{sigma_f}.fits\n",
      "│   │   │   ├──  quartical: \n",
      "│   │   │   │   ├──  dir: meerkat-src-100/data/fits/quartical\n",
      "│   │   │   │   ├──  files: \n",
      "│   │   │   │   ├──  template: quartical-{itype}-{mp}mp-t_int-{t_int}.fits\n",
      "│   │   │   ├──  true: \n",
      "│   │   │   │   └──  dir: meerkat-src-100/data/fits/true\n",
      "│   │   │   │   └──  files: \n",
      "│   │   │   │   └──  template: true-{itype}-{mp}mp.fits\n",
      "│   │   ├──  fluxes: \n",
      "│   │   │   ├──  dir: meerkat-src-100/data/fluxes\n",
      "│   │   │   ├──  files: \n",
      "│   │   │   ├──  kalcal-diag: \n",
      "│   │   │   │   ├──  dir: meerkat-src-100/data/fluxes/kalcal-diag\n",
      "│   │   │   │   ├──  files: \n",
      "│   │   │   │   ├──  filter: \n",
      "│   │   │   │   │   ├──  dir: meerkat-src-100/data/fluxes/kalcal-diag/filter\n",
      "│   │   │   │   │   ├──  files: \n",
      "│   │   │   │   │   ├──  template: diag-filter-fluxes-{mp}mp-sigma_f-{sigma_f}.npz\n",
      "│   │   │   │   ├──  smoother: \n",
      "│   │   │   │   │   └──  dir: meerkat-src-100/data/fluxes/kalcal-diag/smoother\n",
      "│   │   │   │   │   └──  files: \n",
      "│   │   │   │   │   └──  template: diag-smoother-fluxes-{mp}mp-sigma_f-{sigma_f}.npz\n",
      "│   │   │   ├──  kalcal-full: \n",
      "│   │   │   │   ├──  dir: meerkat-src-100/data/fluxes/kalcal-full\n",
      "│   │   │   │   ├──  files: \n",
      "│   │   │   │   ├──  filter: \n",
      "│   │   │   │   │   ├──  dir: meerkat-src-100/data/fluxes/kalcal-full/filter\n",
      "│   │   │   │   │   ├──  files: \n",
      "│   │   │   │   │   ├──  template: full-filter-fluxes-{mp}mp-sigma_f-{sigma_f}.npz\n",
      "│   │   │   │   ├──  smoother: \n",
      "│   │   │   │   │   └──  dir: meerkat-src-100/data/fluxes/kalcal-full/smoother\n",
      "│   │   │   │   │   └──  files: \n",
      "│   │   │   │   │   └──  template: full-smoother-fluxes-{mp}mp-sigma_f-{sigma_f}.npz\n",
      "│   │   │   ├──  quartical: \n",
      "│   │   │   │   ├──  dir: meerkat-src-100/data/fluxes/quartical\n",
      "│   │   │   │   ├──  files: \n",
      "│   │   │   │   ├──  template: quartical-fluxes-{mp}mp-t_int-{t_int}.npz\n",
      "│   │   │   ├──  true: \n",
      "│   │   │   │   └──  dir: meerkat-src-100/data/fluxes/true\n",
      "│   │   │   │   └──  files: \n",
      "│   │   │   │   └──  template: model-{mp}mp.npz\n",
      "│   │   ├──  gains: \n",
      "│   │   │   ├──  dir: meerkat-src-100/data/gains\n",
      "│   │   │   ├──  files: \n",
      "│   │   │   ├──  kalcal-diag: \n",
      "│   │   │   │   ├──  dir: meerkat-src-100/data/gains/kalcal-diag\n",
      "│   │   │   │   ├──  files: \n",
      "│   │   │   │   ├──  filter: \n",
      "│   │   │   │   │   ├──  dir: meerkat-src-100/data/gains/kalcal-diag/filter\n",
      "│   │   │   │   │   ├──  files: \n",
      "│   │   │   │   │   ├──  template: diag-filter-gains-{mp}mp-sigma_f-{sigma_f}.npz\n",
      "│   │   │   │   ├──  smoother: \n",
      "│   │   │   │   │   └──  dir: meerkat-src-100/data/gains/kalcal-diag/smoother\n",
      "│   │   │   │   │   └──  files: \n",
      "│   │   │   │   │   └──  template: diag-smoother-gains-{mp}mp-sigma_f-{sigma_f}.npz\n",
      "│   │   │   ├──  kalcal-full: \n",
      "│   │   │   │   ├──  dir: meerkat-src-100/data/gains/kalcal-full\n",
      "│   │   │   │   ├──  files: \n",
      "│   │   │   │   ├──  filter: \n",
      "│   │   │   │   │   ├──  dir: meerkat-src-100/data/gains/kalcal-full/filter\n",
      "│   │   │   │   │   ├──  files: \n",
      "│   │   │   │   │   ├──  template: full-filter-gains-{mp}mp-sigma_f-{sigma_f}.npz\n",
      "│   │   │   │   ├──  smoother: \n",
      "│   │   │   │   │   └──  dir: meerkat-src-100/data/gains/kalcal-full/smoother\n",
      "│   │   │   │   │   └──  files: \n",
      "│   │   │   │   │   └──  template: full-smoother-gains-{mp}mp-sigma_f-{sigma_f}.npz\n",
      "│   │   │   ├──  quartical: \n",
      "│   │   │   │   ├──  dir: meerkat-src-100/data/gains/quartical\n",
      "│   │   │   │   ├──  files: \n",
      "│   │   │   │   ├──  template: quartical-gains-{mp}mp-t_int-{t_int}.npz\n",
      "│   │   │   ├──  true: \n",
      "│   │   │   │   └──  dir: meerkat-src-100/data/gains/true\n",
      "│   │   │   │   └──  files: \n",
      "│   │   │   │   └──  template: true-gains.npz\n",
      "│   │   ├──  main: \n",
      "│   │   │   ├──  dir: meerkat-src-100\n",
      "│   │   │   ├──  files: \n",
      "│   │   ├──  options: \n",
      "│   │   │   ├──  dir: meerkat-src-100/config\n",
      "│   │   │   ├──  files: \n",
      "│   │   ├──  plots: \n",
      "│   │   │   ├──  dir: meerkat-src-100/plots\n",
      "│   │   │   ├──  files: \n",
      "│   │   ├──  runs: \n",
      "│   │   │   └──  dir: meerkat-src-100/data/runs\n",
      "│   │   │   └──  files: \n",
      "│   │   │   └──  template: quartical-run-{mp}mp-t_int-{t_int}\n",
      "│   ├──  seed: 666\n",
      "\n"
     ]
    }
   ],
   "source": [
    "print(params)"
   ]
  },
  {
   "cell_type": "code",
   "execution_count": null,
   "metadata": {
    "scrolled": false
   },
   "outputs": [],
   "source": [
    "from source.script import all_settings\n",
    "\n",
    "params, options = all_settings(params)"
   ]
  },
  {
   "cell_type": "code",
   "execution_count": null,
   "metadata": {
    "scrolled": false
   },
   "outputs": [],
   "source": [
    "from source.plotting import setup_plotting\n",
    "\n",
    "# Setup plotting\n",
    "setup_plotting(options[\"plots\"], params)"
   ]
  },
  {
   "cell_type": "code",
   "execution_count": null,
   "metadata": {},
   "outputs": [],
   "source": [
    "from source.data import create_empty_measurement_set\n",
    "\n",
    "# Create measurement set\n",
    "create_empty_measurement_set(options[\"ms\"], params, verbose=True)"
   ]
  },
  {
   "cell_type": "code",
   "execution_count": null,
   "metadata": {},
   "outputs": [],
   "source": [
    "from source.data import create_gains_signal\n",
    "\n",
    "# Create true gains signal\n",
    "create_gains_signal(options[\"gains\"], params)"
   ]
  },
  {
   "cell_type": "code",
   "execution_count": null,
   "metadata": {},
   "outputs": [],
   "source": [
    "from source.data import create_skymodels\n",
    "\n",
    "# Create sky models\n",
    "create_skymodels(options[\"vis\"], params)"
   ]
  },
  {
   "cell_type": "code",
   "execution_count": null,
   "metadata": {},
   "outputs": [],
   "source": [
    "from source.data import create_visibilities\n",
    "\n",
    "# Create visibilities\n",
    "create_visibilities(options[\"vis\"], params)"
   ]
  },
  {
   "cell_type": "code",
   "execution_count": null,
   "metadata": {},
   "outputs": [],
   "source": [
    "from source.plotting import create_amplitude_and_phase_signal_plot\n",
    "\n",
    "# Plot amplitude and signal\n",
    "create_amplitude_and_phase_signal_plot([0, 1, 2], params, show=True)"
   ]
  },
  {
   "cell_type": "code",
   "execution_count": null,
   "metadata": {
    "scrolled": true
   },
   "outputs": [],
   "source": [
    "from source.algorithms import run_kalcal_diag_calibration\n",
    "\n",
    "run_kalcal_diag_calibration(options[\"kalcal-diag\"], params, progress=True, check_mse=True)"
   ]
  },
  {
   "cell_type": "code",
   "execution_count": null,
   "metadata": {},
   "outputs": [],
   "source": [
    "from source.algorithms import run_kalcal_full_calibration\n",
    "\n",
    "run_kalcal_full_calibration(options[\"kalcal-full\"], params, progress=True, check_mse=True)"
   ]
  },
  {
   "cell_type": "code",
   "execution_count": null,
   "metadata": {
    "scrolled": true
   },
   "outputs": [],
   "source": [
    "from source.algorithms import run_quartical_calibration\n",
    "\n",
    "run_quartical_calibration(options[\"quartical\"], params, progress=True, check_mse=True)"
   ]
  },
  {
   "cell_type": "code",
   "execution_count": null,
   "metadata": {
    "scrolled": true
   },
   "outputs": [],
   "source": [
    "from source.imaging import run_quartical_flux_extractor\n",
    "\n",
    "run_quartical_flux_extractor(params, check_metric=True, progress=True)"
   ]
  },
  {
   "cell_type": "code",
   "execution_count": null,
   "metadata": {},
   "outputs": [],
   "source": [
    "%autoreload now\n",
    "from source.imaging import run_single_wsclean_imaging\n",
    "\n",
    "paths = params[\"paths\"]\n",
    "gains_path = paths[\"gains\"][\"true\"]\n",
    "fits_name = \"true\"\n",
    "\n",
    "run_single_wsclean_imaging(gains_path, fits_name, params)"
   ]
  }
 ],
 "metadata": {
  "kernelspec": {
   "display_name": "Python 3 (ipykernel)",
   "language": "python",
   "name": "python3"
  },
  "language_info": {
   "codemirror_mode": {
    "name": "ipython",
    "version": 3
   },
   "file_extension": ".py",
   "mimetype": "text/x-python",
   "name": "python",
   "nbconvert_exporter": "python",
   "pygments_lexer": "ipython3",
   "version": "3.8.10"
  }
 },
 "nbformat": 4,
 "nbformat_minor": 2
}
