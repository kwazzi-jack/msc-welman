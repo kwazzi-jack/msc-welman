{
 "cells": [
  {
   "cell_type": "code",
   "execution_count": 2,
   "metadata": {},
   "outputs": [
    {
     "name": "stdout",
     "output_type": "stream",
     "text": [
      "africanus 0.3.4\n",
      "numpy 1.22.0\n",
      "scipy 1.10.1\n",
      "matplotlib 3.7.1\n",
      "casacore 3.5.2\n",
      "simms 1.2.0\n",
      "tqdm 4.65.0\n",
      "pfb 0.0.1\n",
      "numba 0.57.0\n"
     ]
    }
   ],
   "source": []
  }
 ],
 "metadata": {
  "kernelspec": {
   "display_name": "venv",
   "language": "python",
   "name": "python3"
  },
  "language_info": {
   "codemirror_mode": {
    "name": "ipython",
    "version": 3
   },
   "file_extension": ".py",
   "mimetype": "text/x-python",
   "name": "python",
   "nbconvert_exporter": "python",
   "pygments_lexer": "ipython3",
   "version": "3.8.13"
  },
  "orig_nbformat": 4
 },
 "nbformat": 4,
 "nbformat_minor": 2
}
